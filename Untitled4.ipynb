{
  "nbformat": 4,
  "nbformat_minor": 0,
  "metadata": {
    "colab": {
      "name": "Untitled4.ipynb",
      "provenance": [],
      "collapsed_sections": [],
      "authorship_tag": "ABX9TyP21J/V5RH68sjGcD1tPnOU",
      "include_colab_link": true
    },
    "kernelspec": {
      "name": "python3",
      "display_name": "Python 3"
    },
    "language_info": {
      "name": "python"
    }
  },
  "cells": [
    {
      "cell_type": "markdown",
      "metadata": {
        "id": "view-in-github",
        "colab_type": "text"
      },
      "source": [
        "<a href=\"https://colab.research.google.com/github/srikanth2102/TITANIC-SURVIVAL-PREDICTION/blob/main/Untitled4.ipynb\" target=\"_parent\"><img src=\"https://colab.research.google.com/assets/colab-badge.svg\" alt=\"Open In Colab\"/></a>"
      ]
    },
    {
      "cell_type": "markdown",
      "metadata": {
        "id": "ziouP-zH8ewl"
      },
      "source": [
        "**TITANIC SURVIVAL PREDICTION**"
      ]
    },
    {
      "cell_type": "code",
      "metadata": {
        "id": "QIwsQVF2OIHe"
      },
      "source": [
        "#Importing Libraries\n",
        "import pandas as pd\n",
        "import numpy as np\n",
        "from sklearn.metrics import accuracy_score\n",
        "from sklearn.metrics import f1_score\n",
        "from sklearn.metrics import precision_score\n",
        "from sklearn.metrics import recall_score"
      ],
      "execution_count": 79,
      "outputs": []
    },
    {
      "cell_type": "code",
      "metadata": {
        "colab": {
          "base_uri": "https://localhost:8080/",
          "height": 224
        },
        "id": "6ED9iVFqOUhE",
        "outputId": "a2bab503-1a7f-4a37-da40-6da35ffaac95"
      },
      "source": [
        "#Reading Training and Testing file\n",
        "train_data = pd.read_csv('https://storage.googleapis.com/tf-datasets/titanic/train.csv')\n",
        "test_data = pd.read_csv('https://storage.googleapis.com/tf-datasets/titanic/eval.csv')\n",
        "\n",
        "print(train_data.shape,test_data.shape)\n",
        "train_data.head()"
      ],
      "execution_count": 80,
      "outputs": [
        {
          "output_type": "stream",
          "text": [
            "(627, 10) (264, 10)\n"
          ],
          "name": "stdout"
        },
        {
          "output_type": "execute_result",
          "data": {
            "text/html": [
              "<div>\n",
              "<style scoped>\n",
              "    .dataframe tbody tr th:only-of-type {\n",
              "        vertical-align: middle;\n",
              "    }\n",
              "\n",
              "    .dataframe tbody tr th {\n",
              "        vertical-align: top;\n",
              "    }\n",
              "\n",
              "    .dataframe thead th {\n",
              "        text-align: right;\n",
              "    }\n",
              "</style>\n",
              "<table border=\"1\" class=\"dataframe\">\n",
              "  <thead>\n",
              "    <tr style=\"text-align: right;\">\n",
              "      <th></th>\n",
              "      <th>survived</th>\n",
              "      <th>sex</th>\n",
              "      <th>age</th>\n",
              "      <th>n_siblings_spouses</th>\n",
              "      <th>parch</th>\n",
              "      <th>fare</th>\n",
              "      <th>class</th>\n",
              "      <th>deck</th>\n",
              "      <th>embark_town</th>\n",
              "      <th>alone</th>\n",
              "    </tr>\n",
              "  </thead>\n",
              "  <tbody>\n",
              "    <tr>\n",
              "      <th>0</th>\n",
              "      <td>0</td>\n",
              "      <td>male</td>\n",
              "      <td>22.0</td>\n",
              "      <td>1</td>\n",
              "      <td>0</td>\n",
              "      <td>7.2500</td>\n",
              "      <td>Third</td>\n",
              "      <td>unknown</td>\n",
              "      <td>Southampton</td>\n",
              "      <td>n</td>\n",
              "    </tr>\n",
              "    <tr>\n",
              "      <th>1</th>\n",
              "      <td>1</td>\n",
              "      <td>female</td>\n",
              "      <td>38.0</td>\n",
              "      <td>1</td>\n",
              "      <td>0</td>\n",
              "      <td>71.2833</td>\n",
              "      <td>First</td>\n",
              "      <td>C</td>\n",
              "      <td>Cherbourg</td>\n",
              "      <td>n</td>\n",
              "    </tr>\n",
              "    <tr>\n",
              "      <th>2</th>\n",
              "      <td>1</td>\n",
              "      <td>female</td>\n",
              "      <td>26.0</td>\n",
              "      <td>0</td>\n",
              "      <td>0</td>\n",
              "      <td>7.9250</td>\n",
              "      <td>Third</td>\n",
              "      <td>unknown</td>\n",
              "      <td>Southampton</td>\n",
              "      <td>y</td>\n",
              "    </tr>\n",
              "    <tr>\n",
              "      <th>3</th>\n",
              "      <td>1</td>\n",
              "      <td>female</td>\n",
              "      <td>35.0</td>\n",
              "      <td>1</td>\n",
              "      <td>0</td>\n",
              "      <td>53.1000</td>\n",
              "      <td>First</td>\n",
              "      <td>C</td>\n",
              "      <td>Southampton</td>\n",
              "      <td>n</td>\n",
              "    </tr>\n",
              "    <tr>\n",
              "      <th>4</th>\n",
              "      <td>0</td>\n",
              "      <td>male</td>\n",
              "      <td>28.0</td>\n",
              "      <td>0</td>\n",
              "      <td>0</td>\n",
              "      <td>8.4583</td>\n",
              "      <td>Third</td>\n",
              "      <td>unknown</td>\n",
              "      <td>Queenstown</td>\n",
              "      <td>y</td>\n",
              "    </tr>\n",
              "  </tbody>\n",
              "</table>\n",
              "</div>"
            ],
            "text/plain": [
              "   survived     sex   age  ...     deck  embark_town  alone\n",
              "0         0    male  22.0  ...  unknown  Southampton      n\n",
              "1         1  female  38.0  ...        C    Cherbourg      n\n",
              "2         1  female  26.0  ...  unknown  Southampton      y\n",
              "3         1  female  35.0  ...        C  Southampton      n\n",
              "4         0    male  28.0  ...  unknown   Queenstown      y\n",
              "\n",
              "[5 rows x 10 columns]"
            ]
          },
          "metadata": {
            "tags": []
          },
          "execution_count": 80
        }
      ]
    },
    {
      "cell_type": "code",
      "metadata": {
        "colab": {
          "base_uri": "https://localhost:8080/",
          "height": 205
        },
        "id": "Gpkr4wfqOxLn",
        "outputId": "3fe75f51-d275-47c4-fe3b-84fcb3decbbb"
      },
      "source": [
        "#Creating a new array by adding the parents and n_siblings_spouses as they are related\n",
        "relatives_train=train_data['parch']+train_data['n_siblings_spouses']\n",
        "relatives_test=test_data['parch']+test_data['n_siblings_spouses']\n",
        "\n",
        "train_data.head()"
      ],
      "execution_count": 81,
      "outputs": [
        {
          "output_type": "execute_result",
          "data": {
            "text/html": [
              "<div>\n",
              "<style scoped>\n",
              "    .dataframe tbody tr th:only-of-type {\n",
              "        vertical-align: middle;\n",
              "    }\n",
              "\n",
              "    .dataframe tbody tr th {\n",
              "        vertical-align: top;\n",
              "    }\n",
              "\n",
              "    .dataframe thead th {\n",
              "        text-align: right;\n",
              "    }\n",
              "</style>\n",
              "<table border=\"1\" class=\"dataframe\">\n",
              "  <thead>\n",
              "    <tr style=\"text-align: right;\">\n",
              "      <th></th>\n",
              "      <th>survived</th>\n",
              "      <th>sex</th>\n",
              "      <th>age</th>\n",
              "      <th>n_siblings_spouses</th>\n",
              "      <th>parch</th>\n",
              "      <th>fare</th>\n",
              "      <th>class</th>\n",
              "      <th>deck</th>\n",
              "      <th>embark_town</th>\n",
              "      <th>alone</th>\n",
              "    </tr>\n",
              "  </thead>\n",
              "  <tbody>\n",
              "    <tr>\n",
              "      <th>0</th>\n",
              "      <td>0</td>\n",
              "      <td>male</td>\n",
              "      <td>22.0</td>\n",
              "      <td>1</td>\n",
              "      <td>0</td>\n",
              "      <td>7.2500</td>\n",
              "      <td>Third</td>\n",
              "      <td>unknown</td>\n",
              "      <td>Southampton</td>\n",
              "      <td>n</td>\n",
              "    </tr>\n",
              "    <tr>\n",
              "      <th>1</th>\n",
              "      <td>1</td>\n",
              "      <td>female</td>\n",
              "      <td>38.0</td>\n",
              "      <td>1</td>\n",
              "      <td>0</td>\n",
              "      <td>71.2833</td>\n",
              "      <td>First</td>\n",
              "      <td>C</td>\n",
              "      <td>Cherbourg</td>\n",
              "      <td>n</td>\n",
              "    </tr>\n",
              "    <tr>\n",
              "      <th>2</th>\n",
              "      <td>1</td>\n",
              "      <td>female</td>\n",
              "      <td>26.0</td>\n",
              "      <td>0</td>\n",
              "      <td>0</td>\n",
              "      <td>7.9250</td>\n",
              "      <td>Third</td>\n",
              "      <td>unknown</td>\n",
              "      <td>Southampton</td>\n",
              "      <td>y</td>\n",
              "    </tr>\n",
              "    <tr>\n",
              "      <th>3</th>\n",
              "      <td>1</td>\n",
              "      <td>female</td>\n",
              "      <td>35.0</td>\n",
              "      <td>1</td>\n",
              "      <td>0</td>\n",
              "      <td>53.1000</td>\n",
              "      <td>First</td>\n",
              "      <td>C</td>\n",
              "      <td>Southampton</td>\n",
              "      <td>n</td>\n",
              "    </tr>\n",
              "    <tr>\n",
              "      <th>4</th>\n",
              "      <td>0</td>\n",
              "      <td>male</td>\n",
              "      <td>28.0</td>\n",
              "      <td>0</td>\n",
              "      <td>0</td>\n",
              "      <td>8.4583</td>\n",
              "      <td>Third</td>\n",
              "      <td>unknown</td>\n",
              "      <td>Queenstown</td>\n",
              "      <td>y</td>\n",
              "    </tr>\n",
              "  </tbody>\n",
              "</table>\n",
              "</div>"
            ],
            "text/plain": [
              "   survived     sex   age  ...     deck  embark_town  alone\n",
              "0         0    male  22.0  ...  unknown  Southampton      n\n",
              "1         1  female  38.0  ...        C    Cherbourg      n\n",
              "2         1  female  26.0  ...  unknown  Southampton      y\n",
              "3         1  female  35.0  ...        C  Southampton      n\n",
              "4         0    male  28.0  ...  unknown   Queenstown      y\n",
              "\n",
              "[5 rows x 10 columns]"
            ]
          },
          "metadata": {
            "tags": []
          },
          "execution_count": 81
        }
      ]
    },
    {
      "cell_type": "code",
      "metadata": {
        "colab": {
          "base_uri": "https://localhost:8080/",
          "height": 315
        },
        "id": "piLOAEoASqa8",
        "outputId": "5f6aa2c7-ecbf-4511-a878-c763db0f8654"
      },
      "source": [
        "#removing features that doesnt add value\n",
        "train_data.drop(['embark_town','n_siblings_spouses','parch'],axis=1,inplace=True)\n",
        "test_data.drop(['embark_town','n_siblings_spouses','parch'],axis=1,inplace=True)\n",
        "\n",
        "#adding relatives feature\n",
        "train_data['relatives']=relatives_train\n",
        "test_data['relatives']=relatives_test\n",
        "\n",
        "print(train_data.head())\n",
        "test_data.head()"
      ],
      "execution_count": 82,
      "outputs": [
        {
          "output_type": "stream",
          "text": [
            "   survived     sex   age     fare  class     deck alone  relatives\n",
            "0         0    male  22.0   7.2500  Third  unknown     n          1\n",
            "1         1  female  38.0  71.2833  First        C     n          1\n",
            "2         1  female  26.0   7.9250  Third  unknown     y          0\n",
            "3         1  female  35.0  53.1000  First        C     n          1\n",
            "4         0    male  28.0   8.4583  Third  unknown     y          0\n"
          ],
          "name": "stdout"
        },
        {
          "output_type": "execute_result",
          "data": {
            "text/html": [
              "<div>\n",
              "<style scoped>\n",
              "    .dataframe tbody tr th:only-of-type {\n",
              "        vertical-align: middle;\n",
              "    }\n",
              "\n",
              "    .dataframe tbody tr th {\n",
              "        vertical-align: top;\n",
              "    }\n",
              "\n",
              "    .dataframe thead th {\n",
              "        text-align: right;\n",
              "    }\n",
              "</style>\n",
              "<table border=\"1\" class=\"dataframe\">\n",
              "  <thead>\n",
              "    <tr style=\"text-align: right;\">\n",
              "      <th></th>\n",
              "      <th>survived</th>\n",
              "      <th>sex</th>\n",
              "      <th>age</th>\n",
              "      <th>fare</th>\n",
              "      <th>class</th>\n",
              "      <th>deck</th>\n",
              "      <th>alone</th>\n",
              "      <th>relatives</th>\n",
              "    </tr>\n",
              "  </thead>\n",
              "  <tbody>\n",
              "    <tr>\n",
              "      <th>0</th>\n",
              "      <td>0</td>\n",
              "      <td>male</td>\n",
              "      <td>35.0</td>\n",
              "      <td>8.0500</td>\n",
              "      <td>Third</td>\n",
              "      <td>unknown</td>\n",
              "      <td>y</td>\n",
              "      <td>0</td>\n",
              "    </tr>\n",
              "    <tr>\n",
              "      <th>1</th>\n",
              "      <td>0</td>\n",
              "      <td>male</td>\n",
              "      <td>54.0</td>\n",
              "      <td>51.8625</td>\n",
              "      <td>First</td>\n",
              "      <td>E</td>\n",
              "      <td>y</td>\n",
              "      <td>0</td>\n",
              "    </tr>\n",
              "    <tr>\n",
              "      <th>2</th>\n",
              "      <td>1</td>\n",
              "      <td>female</td>\n",
              "      <td>58.0</td>\n",
              "      <td>26.5500</td>\n",
              "      <td>First</td>\n",
              "      <td>C</td>\n",
              "      <td>y</td>\n",
              "      <td>0</td>\n",
              "    </tr>\n",
              "    <tr>\n",
              "      <th>3</th>\n",
              "      <td>1</td>\n",
              "      <td>female</td>\n",
              "      <td>55.0</td>\n",
              "      <td>16.0000</td>\n",
              "      <td>Second</td>\n",
              "      <td>unknown</td>\n",
              "      <td>y</td>\n",
              "      <td>0</td>\n",
              "    </tr>\n",
              "    <tr>\n",
              "      <th>4</th>\n",
              "      <td>1</td>\n",
              "      <td>male</td>\n",
              "      <td>34.0</td>\n",
              "      <td>13.0000</td>\n",
              "      <td>Second</td>\n",
              "      <td>D</td>\n",
              "      <td>y</td>\n",
              "      <td>0</td>\n",
              "    </tr>\n",
              "  </tbody>\n",
              "</table>\n",
              "</div>"
            ],
            "text/plain": [
              "   survived     sex   age     fare   class     deck alone  relatives\n",
              "0         0    male  35.0   8.0500   Third  unknown     y          0\n",
              "1         0    male  54.0  51.8625   First        E     y          0\n",
              "2         1  female  58.0  26.5500   First        C     y          0\n",
              "3         1  female  55.0  16.0000  Second  unknown     y          0\n",
              "4         1    male  34.0  13.0000  Second        D     y          0"
            ]
          },
          "metadata": {
            "tags": []
          },
          "execution_count": 82
        }
      ]
    },
    {
      "cell_type": "code",
      "metadata": {
        "colab": {
          "base_uri": "https://localhost:8080/",
          "height": 205
        },
        "id": "_aqTm4FtTXkL",
        "outputId": "57353f85-a6cf-4257-f2fb-0bc624e9c5d2"
      },
      "source": [
        "#converting 'sex' into numeric data\n",
        "train_data['sex']=train_data['sex'].map({'male':1,'female':0})\n",
        "test_data['sex']=test_data['sex'].map({'male':1,'female':0})\n",
        "\n",
        "#converting 'class' into numeric data\n",
        "train_data['class']=train_data['class'].map({'Second':2,'Third':3,'First':1})\n",
        "test_data['class']=test_data['class'].map({'Second':2,'Third':3,'First':1})\n",
        "\n",
        "#converting 'alone' into numeric data\n",
        "test_data['alone']=test_data['alone'].map({'y':1,'n':0})\n",
        "train_data['alone']=train_data['alone'].map({'y':1,'n':0})\n",
        "\n",
        "#converting 'deck' into numeric data\n",
        "train_data['deck']=train_data['deck'].map({'unknown':0,'A':1,'B':2,'C':3,'D':4,'E':5,'F':6,'G':7})\n",
        "test_data['deck']=test_data['deck'].map({'unknown':0,'A':1,'B':2,'C':3,'D':4,'E':5,'F':6,'G':7})\n",
        "\n",
        "test_data.head()"
      ],
      "execution_count": 83,
      "outputs": [
        {
          "output_type": "execute_result",
          "data": {
            "text/html": [
              "<div>\n",
              "<style scoped>\n",
              "    .dataframe tbody tr th:only-of-type {\n",
              "        vertical-align: middle;\n",
              "    }\n",
              "\n",
              "    .dataframe tbody tr th {\n",
              "        vertical-align: top;\n",
              "    }\n",
              "\n",
              "    .dataframe thead th {\n",
              "        text-align: right;\n",
              "    }\n",
              "</style>\n",
              "<table border=\"1\" class=\"dataframe\">\n",
              "  <thead>\n",
              "    <tr style=\"text-align: right;\">\n",
              "      <th></th>\n",
              "      <th>survived</th>\n",
              "      <th>sex</th>\n",
              "      <th>age</th>\n",
              "      <th>fare</th>\n",
              "      <th>class</th>\n",
              "      <th>deck</th>\n",
              "      <th>alone</th>\n",
              "      <th>relatives</th>\n",
              "    </tr>\n",
              "  </thead>\n",
              "  <tbody>\n",
              "    <tr>\n",
              "      <th>0</th>\n",
              "      <td>0</td>\n",
              "      <td>1</td>\n",
              "      <td>35.0</td>\n",
              "      <td>8.0500</td>\n",
              "      <td>3</td>\n",
              "      <td>0</td>\n",
              "      <td>1</td>\n",
              "      <td>0</td>\n",
              "    </tr>\n",
              "    <tr>\n",
              "      <th>1</th>\n",
              "      <td>0</td>\n",
              "      <td>1</td>\n",
              "      <td>54.0</td>\n",
              "      <td>51.8625</td>\n",
              "      <td>1</td>\n",
              "      <td>5</td>\n",
              "      <td>1</td>\n",
              "      <td>0</td>\n",
              "    </tr>\n",
              "    <tr>\n",
              "      <th>2</th>\n",
              "      <td>1</td>\n",
              "      <td>0</td>\n",
              "      <td>58.0</td>\n",
              "      <td>26.5500</td>\n",
              "      <td>1</td>\n",
              "      <td>3</td>\n",
              "      <td>1</td>\n",
              "      <td>0</td>\n",
              "    </tr>\n",
              "    <tr>\n",
              "      <th>3</th>\n",
              "      <td>1</td>\n",
              "      <td>0</td>\n",
              "      <td>55.0</td>\n",
              "      <td>16.0000</td>\n",
              "      <td>2</td>\n",
              "      <td>0</td>\n",
              "      <td>1</td>\n",
              "      <td>0</td>\n",
              "    </tr>\n",
              "    <tr>\n",
              "      <th>4</th>\n",
              "      <td>1</td>\n",
              "      <td>1</td>\n",
              "      <td>34.0</td>\n",
              "      <td>13.0000</td>\n",
              "      <td>2</td>\n",
              "      <td>4</td>\n",
              "      <td>1</td>\n",
              "      <td>0</td>\n",
              "    </tr>\n",
              "  </tbody>\n",
              "</table>\n",
              "</div>"
            ],
            "text/plain": [
              "   survived  sex   age     fare  class  deck  alone  relatives\n",
              "0         0    1  35.0   8.0500      3     0      1          0\n",
              "1         0    1  54.0  51.8625      1     5      1          0\n",
              "2         1    0  58.0  26.5500      1     3      1          0\n",
              "3         1    0  55.0  16.0000      2     0      1          0\n",
              "4         1    1  34.0  13.0000      2     4      1          0"
            ]
          },
          "metadata": {
            "tags": []
          },
          "execution_count": 83
        }
      ]
    },
    {
      "cell_type": "code",
      "metadata": {
        "id": "DV1U-_aSaArh"
      },
      "source": [
        "#separating features and labels\n",
        "train_x=train_data.drop(['survived'],axis=1)\n",
        "train_y=train_data['survived']\n",
        "\n",
        "test_dummy_x=test_data.drop(['survived'],axis=1)\n",
        "test_dummy_y=test_data['survived']"
      ],
      "execution_count": 84,
      "outputs": []
    },
    {
      "cell_type": "code",
      "metadata": {
        "colab": {
          "base_uri": "https://localhost:8080/"
        },
        "id": "Q6b-sGTbblXu",
        "outputId": "3de0cd1c-06dc-4d04-fefb-5747028bb35e"
      },
      "source": [
        "#spliting test data into test and validation\n",
        "from sklearn.model_selection import train_test_split\n",
        "\n",
        "val_x,test_x,val_y,test_y=train_test_split(test_dummy_x,test_dummy_y,test_size=0.5)\n",
        "\n",
        "print(test_x.shape,test_y.shape)\n",
        "print(val_x.shape,val_y.shape)"
      ],
      "execution_count": 85,
      "outputs": [
        {
          "output_type": "stream",
          "text": [
            "(132, 7) (132,)\n",
            "(132, 7) (132,)\n"
          ],
          "name": "stdout"
        }
      ]
    },
    {
      "cell_type": "markdown",
      "metadata": {
        "id": "hNx6GTYgd4HE"
      },
      "source": [
        "**LOGISTIC REGRESSION**"
      ]
    },
    {
      "cell_type": "code",
      "metadata": {
        "id": "bZP2MZljxNzS"
      },
      "source": [
        "models=dict()"
      ],
      "execution_count": 86,
      "outputs": []
    },
    {
      "cell_type": "code",
      "metadata": {
        "colab": {
          "base_uri": "https://localhost:8080/"
        },
        "id": "aJ6ieUXtdUXT",
        "outputId": "13158900-9103-40b5-e4a5-20015660ec61"
      },
      "source": [
        "#importing logistic regression\n",
        "from sklearn.linear_model import LogisticRegression\n",
        "\n",
        "#model fitting\n",
        "log_reg=LogisticRegression(C=0.1,max_iter=200)\n",
        "log_reg.fit(train_x,train_y)\n",
        "\n",
        "#predicting validation set\n",
        "pred_log_reg=log_reg.predict(val_x)\n",
        "\n",
        "#accuracy on validation set\n",
        "print(\"accuray on validation set\",accuracy_score(val_y,pred_log_reg),\"\\n\")\n",
        "\n",
        "#precision on validation set\n",
        "print(\"precision on validation set\",precision_score(val_y,pred_log_reg),\"\\n\")\n",
        "\n",
        "#recall on validation set\n",
        "print(\"recall on validation set\",recall_score(val_y,pred_log_reg),\"\\n\")\n",
        "\n",
        "#F1 score on validation set\n",
        "print(\"F1 score of validation set\",f1_score(val_y,pred_log_reg),\"\\n\")"
      ],
      "execution_count": 87,
      "outputs": [
        {
          "output_type": "stream",
          "text": [
            "accuray on validation set 0.803030303030303 \n",
            "\n",
            "precision on validation set 0.7708333333333334 \n",
            "\n",
            "recall on validation set 0.7115384615384616 \n",
            "\n",
            "F1 score of validation set 0.74 \n",
            "\n"
          ],
          "name": "stdout"
        }
      ]
    },
    {
      "cell_type": "code",
      "metadata": {
        "id": "QDXspuHj0hN8"
      },
      "source": [
        "models['log_reg']=f1_score(val_y,pred_log_reg)"
      ],
      "execution_count": 88,
      "outputs": []
    },
    {
      "cell_type": "markdown",
      "metadata": {
        "id": "XRwwO38Xwj35"
      },
      "source": [
        "**DECISION TREE**"
      ]
    },
    {
      "cell_type": "code",
      "metadata": {
        "colab": {
          "base_uri": "https://localhost:8080/"
        },
        "id": "59IwrJKpfTFs",
        "outputId": "d267a3df-301c-4fbb-c0be-681ee455e7b4"
      },
      "source": [
        "#importing decision tree classifier\n",
        "from sklearn.tree import DecisionTreeClassifier\n",
        "\n",
        "#model fitting\n",
        "tree=DecisionTreeClassifier(max_depth=10,max_features='sqrt')\n",
        "tree.fit(train_x,train_y)\n",
        "\n",
        "#prediction on validation set\n",
        "pred_tree=tree.predict(val_x)\n",
        "\n",
        "#accuracy on validation set\n",
        "print(\"accuray on validation set\",accuracy_score(val_y,pred_tree),\"\\n\")\n",
        "\n",
        "#precision on validation set\n",
        "print(\"precision on validation set\",precision_score(val_y,pred_tree),\"\\n\")\n",
        "\n",
        "#recall on validation set\n",
        "print(\"recall on validation set\",recall_score(val_y,pred_tree),\"\\n\")\n",
        "\n",
        "#F1 score on validation set\n",
        "print(\"F1 score of validation set\",f1_score(val_y,pred_tree),\"\\n\")"
      ],
      "execution_count": 89,
      "outputs": [
        {
          "output_type": "stream",
          "text": [
            "accuray on validation set 0.8106060606060606 \n",
            "\n",
            "precision on validation set 0.7755102040816326 \n",
            "\n",
            "recall on validation set 0.7307692307692307 \n",
            "\n",
            "F1 score of validation set 0.7524752475247524 \n",
            "\n"
          ],
          "name": "stdout"
        }
      ]
    },
    {
      "cell_type": "code",
      "metadata": {
        "id": "pyRR3AnQycIj"
      },
      "source": [
        "models['tree']=f1_score(val_y,pred_tree)"
      ],
      "execution_count": 90,
      "outputs": []
    },
    {
      "cell_type": "markdown",
      "metadata": {
        "id": "Ffds7Blv2qDH"
      },
      "source": [
        "SUPPORT VECTOR MACHINE"
      ]
    },
    {
      "cell_type": "code",
      "metadata": {
        "colab": {
          "base_uri": "https://localhost:8080/"
        },
        "id": "6tUWg7I_1CoR",
        "outputId": "9981e21b-9393-43b2-9aa1-de0851ee5bdd"
      },
      "source": [
        "#Imprting SVC(support vector machine for classification)\n",
        "from sklearn.svm import SVC\n",
        "\n",
        "#model fitting\n",
        "svm=SVC(kernel='linear',C=0.01)\n",
        "print(svm)\n",
        "svm.fit(train_x,train_y)\n",
        "\n",
        "#prediction on validation set\n",
        "pred_svm=svm.predict(val_x)\n",
        "temp=svm.predict(train_x)\n",
        "\n",
        "#accuracy on validation set\n",
        "print(\"accuray on validation set\",accuracy_score(val_y,pred_svm),\"\\n\")\n",
        "\n",
        "#precision on validation set\n",
        "print(\"precision on validation set\",precision_score(val_y,pred_svm),\"\\n\")\n",
        "\n",
        "#recall on validation set\n",
        "print(\"recall on validation set\",recall_score(val_y,pred_svm),\"\\n\")\n",
        "\n",
        "#F1 score on validation set\n",
        "print(\"F1 score of validation set\",f1_score(val_y,pred_svm),\"\\n\")"
      ],
      "execution_count": 91,
      "outputs": [
        {
          "output_type": "stream",
          "text": [
            "SVC(C=0.01, break_ties=False, cache_size=200, class_weight=None, coef0=0.0,\n",
            "    decision_function_shape='ovr', degree=3, gamma='scale', kernel='linear',\n",
            "    max_iter=-1, probability=False, random_state=None, shrinking=True,\n",
            "    tol=0.001, verbose=False)\n",
            "accuray on validation set 0.803030303030303 \n",
            "\n",
            "precision on validation set 0.90625 \n",
            "\n",
            "recall on validation set 0.5576923076923077 \n",
            "\n",
            "F1 score of validation set 0.6904761904761905 \n",
            "\n"
          ],
          "name": "stdout"
        }
      ]
    },
    {
      "cell_type": "code",
      "metadata": {
        "id": "LAHRmsuy8mqh"
      },
      "source": [
        "models['svm']=f1_score(val_y,pred_svm)"
      ],
      "execution_count": 106,
      "outputs": []
    },
    {
      "cell_type": "markdown",
      "metadata": {
        "id": "XSGIH6Kg8_nV"
      },
      "source": [
        "**RANDOM FOREST**"
      ]
    },
    {
      "cell_type": "code",
      "metadata": {
        "colab": {
          "base_uri": "https://localhost:8080/"
        },
        "id": "h8mfgjmh8-Pw",
        "outputId": "a169c8e1-69e3-4d58-9e6c-4154cc864f54"
      },
      "source": [
        "#importing random forest classifier\n",
        "from sklearn.ensemble import RandomForestClassifier\n",
        "\n",
        "#model fitting\n",
        "forest=RandomForestClassifier(n_estimators=1000,max_depth=10)\n",
        "forest.fit(train_x,train_y)\n",
        "\n",
        "#prediction on validation set\n",
        "pred_forest=forest.predict(val_x)\n",
        "\n",
        "#accuracy on validation set\n",
        "print(\"accuray on validation set\",accuracy_score(val_y,pred_forest),\"\\n\")\n",
        "\n",
        "#precision on validation set\n",
        "print(\"precision on validation set\",precision_score(val_y,pred_svm),\"\\n\")\n",
        "\n",
        "#recall on validation set\n",
        "print(\"recall on validation set\",recall_score(val_y,pred_svm),\"\\n\")\n",
        "\n",
        "#F1 score on validation set\n",
        "print(\"F1 score of validation set\",f1_score(val_y,pred_forest),\"\\n\")"
      ],
      "execution_count": 108,
      "outputs": [
        {
          "output_type": "stream",
          "text": [
            "accuray on validation set 0.8712121212121212 \n",
            "\n",
            "precision on validation set 0.90625 \n",
            "\n",
            "recall on validation set 0.5576923076923077 \n",
            "\n",
            "F1 score of validation set 0.8380952380952382 \n",
            "\n"
          ],
          "name": "stdout"
        }
      ]
    },
    {
      "cell_type": "code",
      "metadata": {
        "id": "ICF-ZLWz_Szf"
      },
      "source": [
        "models['forest']=f1_score(val_y,pred_forest)"
      ],
      "execution_count": 109,
      "outputs": []
    },
    {
      "cell_type": "code",
      "metadata": {
        "colab": {
          "base_uri": "https://localhost:8080/"
        },
        "id": "BM89SSsAADrC",
        "outputId": "79e153ab-25e6-4a38-e133-9a6082a77818"
      },
      "source": [
        "#importing boosting using decison tree classifier\n",
        "from sklearn.ensemble import GradientBoostingClassifier\n",
        "boosting=GradientBoostingClassifier(n_estimators=5000,learning_rate=0.01,max_depth=5,max_features='sqrt')\n",
        "\n",
        "#model fitting\n",
        "boosting.fit(train_x,train_y)\n",
        "\n",
        "#prediction on validation set\n",
        "pred_boosting=boosting.predict(val_x)\n",
        "\n",
        "#accuracy on validation set\n",
        "print(\"accuray on validation set\",accuracy_score(val_y,pred_boosting),\"\\n\")\n",
        "\n",
        "#precision on validation set\n",
        "print(\"precision on validation set\",precision_score(val_y,pred_boosting),\"\\n\")\n",
        "\n",
        "#recall on validation set\n",
        "print(\"recall on validation set\",recall_score(val_y,pred_boosting),\"\\n\")\n",
        "\n",
        "#F1 score on validation set \n",
        "print(\"F1 score of validation set\",f1_score(val_y,pred_boosting),\"\\n\")"
      ],
      "execution_count": 110,
      "outputs": [
        {
          "output_type": "stream",
          "text": [
            "accuray on validation set 0.8484848484848485 \n",
            "\n",
            "precision on validation set 0.7962962962962963 \n",
            "\n",
            "recall on validation set 0.8269230769230769 \n",
            "\n",
            "F1 score of validation set 0.8113207547169811 \n",
            "\n"
          ],
          "name": "stdout"
        }
      ]
    },
    {
      "cell_type": "code",
      "metadata": {
        "id": "MLJiHnFXEnh-"
      },
      "source": [
        "models['boosting']=f1_score(val_y,pred_boosting)"
      ],
      "execution_count": 111,
      "outputs": []
    },
    {
      "cell_type": "code",
      "metadata": {
        "colab": {
          "base_uri": "https://localhost:8080/"
        },
        "id": "Qhsi2D5bwLlG",
        "outputId": "1fecb3c7-63be-40a3-88bb-cb0add6b5344"
      },
      "source": [
        "#importing MLP classifier\n",
        "from sklearn.neural_network import MLPClassifier\n",
        "\n",
        "#model fitting\n",
        "mlp=MLPClassifier(activation='tanh',hidden_layer_sizes=(100,),max_iter=500)\n",
        "mlp.fit(train_x,train_y)\n",
        "\n",
        "#prediction on validation set\n",
        "pred_mlp= mlp.predict(val_x)\n",
        "\n",
        "#accuracy on validation set\n",
        "print(\"accuray on validation set\",accuracy_score(val_y,pred_mlp),\"\\n\")\n",
        "\n",
        "#precision on validation set\n",
        "print(\"precision on validation set\",precision_score(val_y,pred_mlp),\"\\n\")\n",
        "\n",
        "#recall on validation set\n",
        "print(\"recall on validation set\",recall_score(val_y,pred_mlp),\"\\n\")\n",
        "\n",
        "#F1 score on validation set\n",
        "print(\"F1 score of validation set\",f1_score(val_y,pred_mlp),\"\\n\")"
      ],
      "execution_count": 112,
      "outputs": [
        {
          "output_type": "stream",
          "text": [
            "accuray on validation set 0.803030303030303 \n",
            "\n",
            "precision on validation set 0.7096774193548387 \n",
            "\n",
            "recall on validation set 0.8461538461538461 \n",
            "\n",
            "F1 score of validation set 0.7719298245614036 \n",
            "\n"
          ],
          "name": "stdout"
        }
      ]
    },
    {
      "cell_type": "code",
      "metadata": {
        "colab": {
          "base_uri": "https://localhost:8080/"
        },
        "id": "_zeUw5WD1jEk",
        "outputId": "5125cde4-7c1b-4c36-dd4a-ce6002228177"
      },
      "source": [
        "models['mlp']=f1_score(val_y,pred_mlp)\n",
        "models"
      ],
      "execution_count": 114,
      "outputs": [
        {
          "output_type": "execute_result",
          "data": {
            "text/plain": [
              "{'boosting': 0.8113207547169811,\n",
              " 'forest': 0.8380952380952382,\n",
              " 'log_reg': 0.74,\n",
              " 'mlp': 0.7719298245614036,\n",
              " 'svm': 0.6904761904761905,\n",
              " 'tree': 0.7524752475247524}"
            ]
          },
          "metadata": {
            "tags": []
          },
          "execution_count": 114
        }
      ]
    },
    {
      "cell_type": "markdown",
      "metadata": {
        "id": "Dn95WeTV2S0k"
      },
      "source": [
        "**SELECTING THE BEST MODEL BASED ON F1 SCORE**"
      ]
    },
    {
      "cell_type": "code",
      "metadata": {
        "colab": {
          "base_uri": "https://localhost:8080/"
        },
        "id": "qpuJe4Ic2aQ6",
        "outputId": "9b4b0cda-df7a-46a9-a5f5-8018cd416abd"
      },
      "source": [
        "models\n",
        "best_model_score=0\n",
        "for i in models.keys():\n",
        "  if(models[i]>best_model_score):\n",
        "    best_model=i\n",
        "    best_model_score=models[i]\n",
        "print(best_model,best_model_score)"
      ],
      "execution_count": 115,
      "outputs": [
        {
          "output_type": "stream",
          "text": [
            "forest 0.8380952380952382\n"
          ],
          "name": "stdout"
        }
      ]
    },
    {
      "cell_type": "code",
      "metadata": {
        "colab": {
          "base_uri": "https://localhost:8080/",
          "height": 285
        },
        "id": "2Xc8rndl6pb1",
        "outputId": "54ddbcca-ad43-495c-8aae-eaded21d616a"
      },
      "source": [
        "import seaborn as sns\n",
        "sns.barplot(x=list(models.keys()), y=list(models.values()))"
      ],
      "execution_count": 116,
      "outputs": [
        {
          "output_type": "execute_result",
          "data": {
            "text/plain": [
              "<matplotlib.axes._subplots.AxesSubplot at 0x7fa5b8fb7710>"
            ]
          },
          "metadata": {
            "tags": []
          },
          "execution_count": 116
        },
        {
          "output_type": "display_data",
          "data": {
            "image/png": "[encoded data removed]",
            "text/plain": [
              "<Figure size 432x288 with 1 Axes>"
            ]
          },
          "metadata": {
            "tags": [],
            "needs_background": "light"
          }
        }
      ]
    },
    {
      "cell_type": "markdown",
      "metadata": {
        "id": "QKIHM0me6teb"
      },
      "source": [
        "The above plot is based on the F1 score. The best model is random forest. MLP classifer will work better if we have more data than this one. If we want the model to be faster then we can choose random tree as our model since it much faster than the neural network and has a reasonable F1 score. In this i have chosen random forest since i want the model to have a better F1 score\n"
      ]
    },
    {
      "cell_type": "markdown",
      "metadata": {
        "id": "2yXDv9ue8cY9"
      },
      "source": [
        ""
      ]
    },
    {
      "cell_type": "markdown",
      "metadata": {
        "id": "T_kVeeFE7iyl"
      },
      "source": [
        "**F1 SCORE:** \n",
        "          F1 is a measure to see how well our model works. It is calculated using the formula,\n",
        "          \n",
        "          F1 score= 2(precision*recall)/(precision+recall)"
      ]
    },
    {
      "cell_type": "code",
      "metadata": {
        "colab": {
          "base_uri": "https://localhost:8080/"
        },
        "id": "nRsl0Ajy2fBv",
        "outputId": "3f2e1344-4af9-450d-ce75-58c315157cea"
      },
      "source": [
        "#fitting the best model to testing set\n",
        "result=forest.predict(test_x)\n",
        "\n",
        "#accuracy on validation set\n",
        "print(\"accuray on training set\",accuracy_score(test_y,result),\"\\n\")\n",
        "\n",
        "#precision on training set\n",
        "print(\"precision on validation set\",precision_score(test_y,result),\"\\n\")\n",
        "\n",
        "#recall on training set\n",
        "print(\"recall on training set\",recall_score(test_y,result),\"\\n\")\n",
        "\n",
        "#F1 score on training set\n",
        "print(\"F1 score of training set\",f1_score(test_y,result),\"\\n\")"
      ],
      "execution_count": 120,
      "outputs": [
        {
          "output_type": "stream",
          "text": [
            "accuray on training set 0.8106060606060606 \n",
            "\n",
            "precision on validation set 0.7391304347826086 \n",
            "\n",
            "recall on training set 0.723404255319149 \n",
            "\n",
            "F1 score of training set 0.7311827956989247 \n",
            "\n"
          ],
          "name": "stdout"
        }
      ]
    }
  ]
}